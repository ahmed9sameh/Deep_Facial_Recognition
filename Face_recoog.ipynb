{
  "cells": [
    {
      "cell_type": "code",
      "execution_count": null,
      "id": "4aec25aa",
      "metadata": {
        "id": "4aec25aa",
        "outputId": "66ad7fed-5ce1-4192-815b-0206c2e565bc"
      },
      "outputs": [
        {
          "name": "stdout",
          "output_type": "stream",
          "text": [
            "Requirement already satisfied: tensorflow in c:\\users\\ahmed\\anaconda3\\lib\\site-packages (2.13.0)\n",
            "Collecting tensorflow-gpu\n",
            "  Downloading tensorflow-gpu-2.12.0.tar.gz (2.6 kB)\n",
            "  Preparing metadata (setup.py): started\n",
            "  Preparing metadata (setup.py): finished with status 'done'\n",
            "Requirement already satisfied: tensorflow-intel==2.13.0 in c:\\users\\ahmed\\anaconda3\\lib\\site-packages (from tensorflow) (2.13.0)\n",
            "Requirement already satisfied: libclang>=13.0.0 in c:\\users\\ahmed\\anaconda3\\lib\\site-packages (from tensorflow-intel==2.13.0->tensorflow) (16.0.6)\n",
            "Requirement already satisfied: tensorflow-estimator<2.14,>=2.13.0 in c:\\users\\ahmed\\anaconda3\\lib\\site-packages (from tensorflow-intel==2.13.0->tensorflow) (2.13.0)\n",
            "Requirement already satisfied: grpcio<2.0,>=1.24.3 in c:\\users\\ahmed\\anaconda3\\lib\\site-packages (from tensorflow-intel==2.13.0->tensorflow) (1.56.2)\n",
            "Requirement already satisfied: termcolor>=1.1.0 in c:\\users\\ahmed\\anaconda3\\lib\\site-packages (from tensorflow-intel==2.13.0->tensorflow) (2.3.0)\n",
            "Requirement already satisfied: wrapt>=1.11.0 in c:\\users\\ahmed\\anaconda3\\lib\\site-packages (from tensorflow-intel==2.13.0->tensorflow) (1.14.1)\n",
            "Requirement already satisfied: gast<=0.4.0,>=0.2.1 in c:\\users\\ahmed\\anaconda3\\lib\\site-packages (from tensorflow-intel==2.13.0->tensorflow) (0.4.0)\n",
            "Requirement already satisfied: numpy<=1.24.3,>=1.22 in c:\\users\\ahmed\\anaconda3\\lib\\site-packages (from tensorflow-intel==2.13.0->tensorflow) (1.23.5)\n",
            "Requirement already satisfied: packaging in c:\\users\\ahmed\\anaconda3\\lib\\site-packages (from tensorflow-intel==2.13.0->tensorflow) (22.0)\n",
            "Requirement already satisfied: absl-py>=1.0.0 in c:\\users\\ahmed\\anaconda3\\lib\\site-packages (from tensorflow-intel==2.13.0->tensorflow) (1.4.0)\n",
            "Requirement already satisfied: keras<2.14,>=2.13.1 in c:\\users\\ahmed\\anaconda3\\lib\\site-packages (from tensorflow-intel==2.13.0->tensorflow) (2.13.1)\n",
            "Requirement already satisfied: protobuf!=4.21.0,!=4.21.1,!=4.21.2,!=4.21.3,!=4.21.4,!=4.21.5,<5.0.0dev,>=3.20.3 in c:\\users\\ahmed\\anaconda3\\lib\\site-packages (from tensorflow-intel==2.13.0->tensorflow) (4.23.4)\n",
            "Requirement already satisfied: h5py>=2.9.0 in c:\\users\\ahmed\\anaconda3\\lib\\site-packages (from tensorflow-intel==2.13.0->tensorflow) (3.7.0)\n",
            "Requirement already satisfied: google-pasta>=0.1.1 in c:\\users\\ahmed\\anaconda3\\lib\\site-packages (from tensorflow-intel==2.13.0->tensorflow) (0.2.0)\n",
            "Requirement already satisfied: opt-einsum>=2.3.2 in c:\\users\\ahmed\\anaconda3\\lib\\site-packages (from tensorflow-intel==2.13.0->tensorflow) (3.3.0)\n",
            "Requirement already satisfied: setuptools in c:\\users\\ahmed\\anaconda3\\lib\\site-packages (from tensorflow-intel==2.13.0->tensorflow) (65.6.3)\n",
            "Requirement already satisfied: flatbuffers>=23.1.21 in c:\\users\\ahmed\\anaconda3\\lib\\site-packages (from tensorflow-intel==2.13.0->tensorflow) (23.5.26)\n",
            "Requirement already satisfied: tensorflow-io-gcs-filesystem>=0.23.1 in c:\\users\\ahmed\\anaconda3\\lib\\site-packages (from tensorflow-intel==2.13.0->tensorflow) (0.31.0)\n",
            "Requirement already satisfied: astunparse>=1.6.0 in c:\\users\\ahmed\\anaconda3\\lib\\site-packages (from tensorflow-intel==2.13.0->tensorflow) (1.6.3)\n",
            "Requirement already satisfied: tensorboard<2.14,>=2.13 in c:\\users\\ahmed\\anaconda3\\lib\\site-packages (from tensorflow-intel==2.13.0->tensorflow) (2.13.0)\n",
            "Requirement already satisfied: six>=1.12.0 in c:\\users\\ahmed\\anaconda3\\lib\\site-packages (from tensorflow-intel==2.13.0->tensorflow) (1.16.0)\n",
            "Requirement already satisfied: typing-extensions<4.6.0,>=3.6.6 in c:\\users\\ahmed\\anaconda3\\lib\\site-packages (from tensorflow-intel==2.13.0->tensorflow) (4.4.0)\n",
            "Collecting python_version>\"3.7\"\n",
            "  Downloading python_version-0.0.2-py2.py3-none-any.whl (3.4 kB)\n",
            "Requirement already satisfied: wheel<1.0,>=0.23.0 in c:\\users\\ahmed\\anaconda3\\lib\\site-packages (from astunparse>=1.6.0->tensorflow-intel==2.13.0->tensorflow) (0.38.4)\n",
            "Requirement already satisfied: google-auth-oauthlib<1.1,>=0.5 in c:\\users\\ahmed\\anaconda3\\lib\\site-packages (from tensorboard<2.14,>=2.13->tensorflow-intel==2.13.0->tensorflow) (1.0.0)\n",
            "Requirement already satisfied: werkzeug>=1.0.1 in c:\\users\\ahmed\\anaconda3\\lib\\site-packages (from tensorboard<2.14,>=2.13->tensorflow-intel==2.13.0->tensorflow) (2.2.2)\n",
            "Requirement already satisfied: requests<3,>=2.21.0 in c:\\users\\ahmed\\anaconda3\\lib\\site-packages (from tensorboard<2.14,>=2.13->tensorflow-intel==2.13.0->tensorflow) (2.28.1)\n",
            "Requirement already satisfied: markdown>=2.6.8 in c:\\users\\ahmed\\anaconda3\\lib\\site-packages (from tensorboard<2.14,>=2.13->tensorflow-intel==2.13.0->tensorflow) (3.4.1)\n",
            "Requirement already satisfied: google-auth<3,>=1.6.3 in c:\\users\\ahmed\\anaconda3\\lib\\site-packages (from tensorboard<2.14,>=2.13->tensorflow-intel==2.13.0->tensorflow) (2.22.0)\n",
            "Requirement already satisfied: tensorboard-data-server<0.8.0,>=0.7.0 in c:\\users\\ahmed\\anaconda3\\lib\\site-packages (from tensorboard<2.14,>=2.13->tensorflow-intel==2.13.0->tensorflow) (0.7.1)\n",
            "Requirement already satisfied: rsa<5,>=3.1.4 in c:\\users\\ahmed\\anaconda3\\lib\\site-packages (from google-auth<3,>=1.6.3->tensorboard<2.14,>=2.13->tensorflow-intel==2.13.0->tensorflow) (4.9)\n",
            "Requirement already satisfied: urllib3<2.0 in c:\\users\\ahmed\\anaconda3\\lib\\site-packages (from google-auth<3,>=1.6.3->tensorboard<2.14,>=2.13->tensorflow-intel==2.13.0->tensorflow) (1.26.14)\n",
            "Requirement already satisfied: pyasn1-modules>=0.2.1 in c:\\users\\ahmed\\anaconda3\\lib\\site-packages (from google-auth<3,>=1.6.3->tensorboard<2.14,>=2.13->tensorflow-intel==2.13.0->tensorflow) (0.2.8)\n",
            "Requirement already satisfied: cachetools<6.0,>=2.0.0 in c:\\users\\ahmed\\anaconda3\\lib\\site-packages (from google-auth<3,>=1.6.3->tensorboard<2.14,>=2.13->tensorflow-intel==2.13.0->tensorflow) (5.3.1)\n",
            "Requirement already satisfied: requests-oauthlib>=0.7.0 in c:\\users\\ahmed\\anaconda3\\lib\\site-packages (from google-auth-oauthlib<1.1,>=0.5->tensorboard<2.14,>=2.13->tensorflow-intel==2.13.0->tensorflow) (1.3.1)\n",
            "Requirement already satisfied: charset-normalizer<3,>=2 in c:\\users\\ahmed\\anaconda3\\lib\\site-packages (from requests<3,>=2.21.0->tensorboard<2.14,>=2.13->tensorflow-intel==2.13.0->tensorflow) (2.0.4)\n",
            "Requirement already satisfied: certifi>=2017.4.17 in c:\\users\\ahmed\\anaconda3\\lib\\site-packages (from requests<3,>=2.21.0->tensorboard<2.14,>=2.13->tensorflow-intel==2.13.0->tensorflow) (2022.12.7)\n",
            "Requirement already satisfied: idna<4,>=2.5 in c:\\users\\ahmed\\anaconda3\\lib\\site-packages (from requests<3,>=2.21.0->tensorboard<2.14,>=2.13->tensorflow-intel==2.13.0->tensorflow) (3.4)\n",
            "Requirement already satisfied: MarkupSafe>=2.1.1 in c:\\users\\ahmed\\anaconda3\\lib\\site-packages (from werkzeug>=1.0.1->tensorboard<2.14,>=2.13->tensorflow-intel==2.13.0->tensorflow) (2.1.1)\n",
            "Requirement already satisfied: pyasn1<0.5.0,>=0.4.6 in c:\\users\\ahmed\\anaconda3\\lib\\site-packages (from pyasn1-modules>=0.2.1->google-auth<3,>=1.6.3->tensorboard<2.14,>=2.13->tensorflow-intel==2.13.0->tensorflow) (0.4.8)\n",
            "Requirement already satisfied: oauthlib>=3.0.0 in c:\\users\\ahmed\\anaconda3\\lib\\site-packages (from requests-oauthlib>=0.7.0->google-auth-oauthlib<1.1,>=0.5->tensorboard<2.14,>=2.13->tensorflow-intel==2.13.0->tensorflow) (3.2.2)\n",
            "Building wheels for collected packages: tensorflow-gpu\n",
            "  Building wheel for tensorflow-gpu (setup.py): started\n",
            "  Building wheel for tensorflow-gpu (setup.py): finished with status 'error'\n",
            "  Running setup.py clean for tensorflow-gpu\n",
            "Failed to build tensorflow-gpu\n",
            "Installing collected packages: python_version, tensorflow-gpu\n",
            "  Running setup.py install for tensorflow-gpu: started\n",
            "  Running setup.py install for tensorflow-gpu: finished with status 'error'\n"
          ]
        },
        {
          "name": "stderr",
          "output_type": "stream",
          "text": [
            "  error: subprocess-exited-with-error\n",
            "  \n",
            "  python setup.py bdist_wheel did not run successfully.\n",
            "  exit code: 1\n",
            "  \n",
            "  [18 lines of output]\n",
            "  Traceback (most recent call last):\n",
            "    File \"<string>\", line 2, in <module>\n",
            "    File \"<pip-setuptools-caller>\", line 34, in <module>\n",
            "    File \"C:\\Users\\ahmed\\AppData\\Local\\Temp\\pip-install-y4z10c8o\\tensorflow-gpu_9833235febac48e7a4b4e5f115114b6f\\setup.py\", line 37, in <module>\n",
            "      raise Exception(TF_REMOVAL_WARNING)\n",
            "  Exception:\n",
            "  \n",
            "  =========================================================\n",
            "  The \"tensorflow-gpu\" package has been removed!\n",
            "  \n",
            "  Please install \"tensorflow\" instead.\n",
            "  \n",
            "  Other than the name, the two packages have been identical\n",
            "  since TensorFlow 2.1, or roughly since Sep 2019. For more\n",
            "  information, see: pypi.org/project/tensorflow-gpu\n",
            "  =========================================================\n",
            "  \n",
            "  \n",
            "  [end of output]\n",
            "  \n",
            "  note: This error originates from a subprocess, and is likely not a problem with pip.\n",
            "  ERROR: Failed building wheel for tensorflow-gpu\n",
            "  error: subprocess-exited-with-error\n",
            "  \n",
            "  Running setup.py install for tensorflow-gpu did not run successfully.\n",
            "  exit code: 1\n",
            "  \n",
            "  [18 lines of output]\n",
            "  Traceback (most recent call last):\n",
            "    File \"<string>\", line 2, in <module>\n",
            "    File \"<pip-setuptools-caller>\", line 34, in <module>\n",
            "    File \"C:\\Users\\ahmed\\AppData\\Local\\Temp\\pip-install-y4z10c8o\\tensorflow-gpu_9833235febac48e7a4b4e5f115114b6f\\setup.py\", line 37, in <module>\n",
            "      raise Exception(TF_REMOVAL_WARNING)\n",
            "  Exception:\n",
            "  \n",
            "  =========================================================\n",
            "  The \"tensorflow-gpu\" package has been removed!\n",
            "  \n",
            "  Please install \"tensorflow\" instead.\n",
            "  \n",
            "  Other than the name, the two packages have been identical\n",
            "  since TensorFlow 2.1, or roughly since Sep 2019. For more\n",
            "  information, see: pypi.org/project/tensorflow-gpu\n",
            "  =========================================================\n",
            "  \n",
            "  \n",
            "  [end of output]\n",
            "  \n",
            "  note: This error originates from a subprocess, and is likely not a problem with pip.\n",
            "error: legacy-install-failure\n",
            "\n",
            "Encountered error while trying to install package.\n",
            "\n",
            "tensorflow-gpu\n",
            "\n",
            "note: This is an issue with the package mentioned above, not pip.\n",
            "hint: See above for output from the failure.\n"
          ]
        }
      ],
      "source": [
        "!pip install tensorflow tensorflow-gpu"
      ]
    },
    {
      "cell_type": "code",
      "execution_count": null,
      "id": "c5146600",
      "metadata": {
        "id": "c5146600",
        "outputId": "3a724717-e135-4d7a-a7c7-c1e9d20bce93"
      },
      "outputs": [
        {
          "name": "stderr",
          "output_type": "stream",
          "text": [
            "'pwd' is not recognized as an internal or external command,\n",
            "operable program or batch file.\n"
          ]
        }
      ],
      "source": [
        "!pwd"
      ]
    },
    {
      "cell_type": "code",
      "execution_count": 1,
      "id": "3a94e9a2",
      "metadata": {
        "id": "3a94e9a2"
      },
      "outputs": [],
      "source": [
        "import cv2\n",
        "import os\n",
        "import random\n",
        "import numpy as np\n",
        "import matplotlib.pyplot as plt"
      ]
    },
    {
      "cell_type": "code",
      "execution_count": null,
      "id": "36be5486",
      "metadata": {
        "colab": {
          "base_uri": "https://localhost:8080/",
          "height": 175
        },
        "id": "36be5486",
        "outputId": "3913f92e-efc1-4c75-d1ec-748ae4d4a427"
      },
      "outputs": [
        {
          "output_type": "error",
          "ename": "NameError",
          "evalue": "ignored",
          "traceback": [
            "\u001b[0;31m---------------------------------------------------------------------------\u001b[0m",
            "\u001b[0;31mNameError\u001b[0m                                 Traceback (most recent call last)",
            "\u001b[0;32m<ipython-input-2-357d3d4948a7>\u001b[0m in \u001b[0;36m<cell line: 1>\u001b[0;34m()\u001b[0m\n\u001b[0;32m----> 1\u001b[0;31m \u001b[0mprint\u001b[0m\u001b[0;34m(\u001b[0m\u001b[0mtf\u001b[0m\u001b[0;34m.\u001b[0m\u001b[0mconfig\u001b[0m\u001b[0;34m.\u001b[0m\u001b[0mlist_physical_devices\u001b[0m\u001b[0;34m(\u001b[0m\u001b[0;34m'GPU'\u001b[0m\u001b[0;34m)\u001b[0m\u001b[0;34m)\u001b[0m\u001b[0;34m\u001b[0m\u001b[0;34m\u001b[0m\u001b[0m\n\u001b[0m",
            "\u001b[0;31mNameError\u001b[0m: name 'tf' is not defined"
          ]
        }
      ],
      "source": [
        "print(tf.config.list_physical_devices('GPU'))"
      ]
    },
    {
      "cell_type": "code",
      "execution_count": 2,
      "id": "4cc2d630",
      "metadata": {
        "id": "4cc2d630"
      },
      "outputs": [],
      "source": [
        "# Import tensorflow dependencies - Functional API\n",
        "from tensorflow.keras.models import Model\n",
        "from tensorflow.keras.layers import Layer, Conv2D, Dense, MaxPooling2D, Input, Flatten\n",
        "import tensorflow as tf"
      ]
    },
    {
      "cell_type": "code",
      "execution_count": null,
      "id": "dfd5b31a",
      "metadata": {
        "id": "dfd5b31a"
      },
      "outputs": [],
      "source": [
        "# Avoid OOM errors by setting GPU Memory Consumption Growth\n",
        "gpus = tf.config.experimental.list_physical_devices('GPU')\n",
        "for gpu in gpus:\n",
        "    tf.config.experimental.set_memory_growth(gpu, True)"
      ]
    },
    {
      "cell_type": "code",
      "execution_count": 3,
      "id": "ac9a77e6",
      "metadata": {
        "id": "ac9a77e6"
      },
      "outputs": [],
      "source": [
        "# Setup paths\n",
        "POS_PATH = os.path.join('data', 'positive')\n",
        "NEG_PATH = os.path.join('data', 'negative')\n",
        "ANC_PATH = os.path.join('data', 'anchor')\n",
        "# # Make the directories\n",
        "# os.makedirs(POS_PATH)\n",
        "# os.makedirs(NEG_PATH)\n",
        "# os.makedirs(ANC_PATH)"
      ]
    },
    {
      "cell_type": "code",
      "execution_count": null,
      "id": "18e8271f",
      "metadata": {
        "id": "18e8271f",
        "outputId": "1f5a1fd4-6c94-4ea2-c28c-845c8318cf83"
      },
      "outputs": [
        {
          "name": "stderr",
          "output_type": "stream",
          "text": [
            "tar: Error opening archive: Failed to open 'lfw.tar'\n"
          ]
        }
      ],
      "source": [
        "!tar -xf lfw.tar"
      ]
    },
    {
      "cell_type": "code",
      "execution_count": null,
      "id": "8e86f0a4",
      "metadata": {
        "id": "8e86f0a4",
        "outputId": "93d5dbf1-0cbf-488a-b8fb-e673d3a792cd"
      },
      "outputs": [
        {
          "ename": "FileNotFoundError",
          "evalue": "[WinError 3] The system cannot find the path specified: 'lfw'",
          "output_type": "error",
          "traceback": [
            "\u001b[1;31m---------------------------------------------------------------------------\u001b[0m",
            "\u001b[1;31mFileNotFoundError\u001b[0m                         Traceback (most recent call last)",
            "Cell \u001b[1;32mIn[49], line 1\u001b[0m\n\u001b[1;32m----> 1\u001b[0m \u001b[38;5;28;01mfor\u001b[39;00m directory \u001b[38;5;129;01min\u001b[39;00m \u001b[43mos\u001b[49m\u001b[38;5;241;43m.\u001b[39;49m\u001b[43mlistdir\u001b[49m\u001b[43m(\u001b[49m\u001b[38;5;124;43m'\u001b[39;49m\u001b[38;5;124;43mlfw\u001b[39;49m\u001b[38;5;124;43m'\u001b[39;49m\u001b[43m)\u001b[49m:\n\u001b[0;32m      2\u001b[0m     \u001b[38;5;28;01mfor\u001b[39;00m file \u001b[38;5;129;01min\u001b[39;00m os\u001b[38;5;241m.\u001b[39mlistdir(os\u001b[38;5;241m.\u001b[39mpath\u001b[38;5;241m.\u001b[39mjoin(\u001b[38;5;124m'\u001b[39m\u001b[38;5;124mlfw\u001b[39m\u001b[38;5;124m'\u001b[39m,directory)):\n\u001b[0;32m      3\u001b[0m         OLD_PATH\u001b[38;5;241m=\u001b[39mos\u001b[38;5;241m.\u001b[39mpath\u001b[38;5;241m.\u001b[39mjoin(\u001b[38;5;124m'\u001b[39m\u001b[38;5;124mlfw\u001b[39m\u001b[38;5;124m'\u001b[39m,directory,file)\n",
            "\u001b[1;31mFileNotFoundError\u001b[0m: [WinError 3] The system cannot find the path specified: 'lfw'"
          ]
        }
      ],
      "source": [
        "for directory in os.listdir('lfw'):\n",
        "    for file in os.listdir(os.path.join('lfw',directory)):\n",
        "        OLD_PATH=os.path.join('lfw',directory,file)\n",
        "        NEW_PATH=os.path.join(NEG_PATH,file)\n",
        "        os.replace(OLD_PATH,NEW_PATH)\n"
      ]
    },
    {
      "cell_type": "code",
      "execution_count": null,
      "id": "50e8b951",
      "metadata": {
        "id": "50e8b951"
      },
      "outputs": [],
      "source": [
        "import uuid"
      ]
    },
    {
      "cell_type": "code",
      "execution_count": null,
      "id": "4090f35a",
      "metadata": {
        "id": "4090f35a"
      },
      "outputs": [],
      "source": [
        "cap = cv2.VideoCapture(0)\n",
        "while cap.isOpened():\n",
        "    ret, frame = cap.read()\n",
        "    frame=frame[120:120+250,200:200+250,:]\n",
        "    cv2.imshow(\"MyImage\",frame)\n",
        "    if cv2.waitKey(1) & 0XFF == ord('a'):\n",
        "        IMG_NAME=os.path.join(ANC_PATH,\"{}.jpg\".format(uuid.uuid1()))\n",
        "        cv2.imwrite(IMG_NAME,frame)\n",
        "    if cv2.waitKey(1) & 0XFF == ord('p'):\n",
        "        IMG_NAME=os.path.join(POS_PATH,\"{}.jpg\".format(uuid.uuid1()))\n",
        "        cv2.imwrite(IMG_NAME,frame)\n",
        "\n",
        "    if cv2.waitKey(1) & 0XFF == ord('q'):\n",
        "        break\n",
        "\n",
        "# Release the webcam\n",
        "cap.release()\n",
        "# Close the image show frame\n",
        "cv2.destroyAllWindows()"
      ]
    },
    {
      "cell_type": "code",
      "execution_count": 4,
      "id": "e6ed5e85",
      "metadata": {
        "id": "e6ed5e85"
      },
      "outputs": [],
      "source": [
        "anchor=tf.data.Dataset.list_files(ANC_PATH+'/*.jpg').take(400)\n",
        "positive=tf.data.Dataset.list_files(POS_PATH+'/*.jpg').take(400)\n",
        "negative=tf.data.Dataset.list_files(NEG_PATH+'/*.jpg').take(400)"
      ]
    },
    {
      "cell_type": "code",
      "execution_count": 5,
      "id": "ac172766",
      "metadata": {
        "id": "ac172766"
      },
      "outputs": [],
      "source": [
        "def preprocess (file_path):\n",
        "    fimg=tf.io.read_file(file_path)\n",
        "    img=tf.io.decode_jpeg(fimg)\n",
        "    img = tf.image.resize(img, (100,100))\n",
        "    # Scale image to be between 0 and 1\n",
        "    img = img / 255.0\n",
        "\n",
        "    # Return image\n",
        "    return img"
      ]
    },
    {
      "cell_type": "code",
      "execution_count": 6,
      "id": "4aed081d",
      "metadata": {
        "id": "4aed081d"
      },
      "outputs": [],
      "source": [
        "positives=tf.data.Dataset.zip((anchor,positive,tf.data.Dataset.from_tensor_slices(tf.ones(len(anchor)))))\n",
        "negatives=tf.data.Dataset.zip((anchor,negative,tf.data.Dataset.from_tensor_slices(tf.zeros(len(anchor)))))\n",
        "data=positives.concatenate(negatives)"
      ]
    },
    {
      "cell_type": "code",
      "execution_count": null,
      "id": "c891706b",
      "metadata": {
        "id": "c891706b"
      },
      "outputs": [],
      "source": []
    },
    {
      "cell_type": "code",
      "execution_count": null,
      "id": "61f47bce",
      "metadata": {
        "id": "61f47bce",
        "colab": {
          "base_uri": "https://localhost:8080/"
        },
        "outputId": "2b4ae379-f537-4dee-9925-0b5d3787cf92"
      },
      "outputs": [
        {
          "output_type": "execute_result",
          "data": {
            "text/plain": [
              "(b'data/anchor/ad663e4f-351c-11ee-813d-b40edeb3ee89.jpg',\n",
              " b'data/positive/63d0e62e-351d-11ee-a3f4-b40edeb3ee89.jpg',\n",
              " 1.0)"
            ]
          },
          "metadata": {},
          "execution_count": 139
        }
      ],
      "source": []
    },
    {
      "cell_type": "code",
      "execution_count": 7,
      "id": "110cdbb8",
      "metadata": {
        "id": "110cdbb8"
      },
      "outputs": [],
      "source": [
        "def preprocess_all(input_img,validation_img,label):\n",
        "    return (preprocess(input_img),preprocess(validation_img),label)"
      ]
    },
    {
      "cell_type": "code",
      "execution_count": 8,
      "id": "e0b82b09",
      "metadata": {
        "id": "e0b82b09"
      },
      "outputs": [],
      "source": [
        "data=data.map(preprocess_all)\n",
        "data=data.cache()\n",
        "data=data.shuffle(buffer_size=1024)"
      ]
    },
    {
      "cell_type": "code",
      "source": [
        "sample=data.as_numpy_iterator()"
      ],
      "metadata": {
        "id": "qDw2sEhmQA3l"
      },
      "id": "qDw2sEhmQA3l",
      "execution_count": null,
      "outputs": []
    },
    {
      "cell_type": "code",
      "source": [
        "ex=sample.next()[2]\n",
        "ex"
      ],
      "metadata": {
        "colab": {
          "base_uri": "https://localhost:8080/"
        },
        "id": "HFgZzDzlQCPU",
        "outputId": "6576d77e-1260-48a0-e567-43231544fbcb"
      },
      "id": "HFgZzDzlQCPU",
      "execution_count": null,
      "outputs": [
        {
          "output_type": "execute_result",
          "data": {
            "text/plain": [
              "0.0"
            ]
          },
          "metadata": {},
          "execution_count": 146
        }
      ]
    },
    {
      "cell_type": "code",
      "execution_count": 9,
      "id": "ea8b8001",
      "metadata": {
        "id": "ea8b8001"
      },
      "outputs": [],
      "source": [
        "train_data=data.take(round(len(data)*0.7))\n",
        "train_data=train_data.batch(16)\n",
        "train_data=train_data.prefetch(8)"
      ]
    },
    {
      "cell_type": "code",
      "source": [
        "train_data.as_numpy_iterator().next()[2]"
      ],
      "metadata": {
        "colab": {
          "base_uri": "https://localhost:8080/"
        },
        "id": "aGm6mfhYPCBN",
        "outputId": "394b4056-93e3-4fd4-ef55-a5c39786fed8"
      },
      "id": "aGm6mfhYPCBN",
      "execution_count": null,
      "outputs": [
        {
          "output_type": "execute_result",
          "data": {
            "text/plain": [
              "array([0., 0., 1., 1., 1., 1., 1., 1., 0., 0., 1., 0., 0., 1., 0., 0.],\n",
              "      dtype=float32)"
            ]
          },
          "metadata": {},
          "execution_count": 148
        }
      ]
    },
    {
      "cell_type": "code",
      "execution_count": 10,
      "id": "78e25941",
      "metadata": {
        "id": "78e25941"
      },
      "outputs": [],
      "source": [
        "test_data = data.skip(round(len(data)*.7))\n",
        "test_data = test_data.take(round(len(data)*.3))\n",
        "test_data = test_data.batch(16)\n",
        "test_data = test_data.prefetch(8)"
      ]
    },
    {
      "cell_type": "code",
      "execution_count": 11,
      "id": "2c3c5077",
      "metadata": {
        "id": "2c3c5077"
      },
      "outputs": [],
      "source": [
        "def make_embeddding():\n",
        "    inp=Input(shape=(100,100,3),name=\"Input\")\n",
        "    c1=Conv2D(64,(10,10),activation=\"relu\")(inp)\n",
        "    m1=MaxPooling2D(64,(2,2),padding=\"same\")(c1)\n",
        "    c2=Conv2D(128,(7,7),activation=\"relu\")(m1)\n",
        "    m2=MaxPooling2D(64,(2,2),padding=\"same\")(c2)\n",
        "    c3=Conv2D(128,(4,4),activation=\"relu\")(m2)\n",
        "    m3=MaxPooling2D(64,(2,2),padding=\"same\")(c3)\n",
        "    c4 = Conv2D(256, (4,4), activation='relu')(m3)\n",
        "    f1 = Flatten()(c4)\n",
        "    d1 = Dense(4096, activation='sigmoid')(f1)\n",
        "    return Model(inputs=[inp],outputs=[d1],name=\"embedding\")"
      ]
    },
    {
      "cell_type": "code",
      "execution_count": 12,
      "id": "5e9dda30",
      "metadata": {
        "id": "5e9dda30",
        "outputId": "7fdf7e76-4dc9-4b81-c079-3399bfc6ac66",
        "colab": {
          "base_uri": "https://localhost:8080/"
        }
      },
      "outputs": [
        {
          "output_type": "stream",
          "name": "stdout",
          "text": [
            "Model: \"embedding\"\n",
            "_________________________________________________________________\n",
            " Layer (type)                Output Shape              Param #   \n",
            "=================================================================\n",
            " Input (InputLayer)          [(None, 100, 100, 3)]     0         \n",
            "                                                                 \n",
            " conv2d (Conv2D)             (None, 91, 91, 64)        19264     \n",
            "                                                                 \n",
            " max_pooling2d (MaxPooling2D  (None, 46, 46, 64)       0         \n",
            " )                                                               \n",
            "                                                                 \n",
            " conv2d_1 (Conv2D)           (None, 40, 40, 128)       401536    \n",
            "                                                                 \n",
            " max_pooling2d_1 (MaxPooling  (None, 20, 20, 128)      0         \n",
            " 2D)                                                             \n",
            "                                                                 \n",
            " conv2d_2 (Conv2D)           (None, 17, 17, 128)       262272    \n",
            "                                                                 \n",
            " max_pooling2d_2 (MaxPooling  (None, 9, 9, 128)        0         \n",
            " 2D)                                                             \n",
            "                                                                 \n",
            " conv2d_3 (Conv2D)           (None, 6, 6, 256)         524544    \n",
            "                                                                 \n",
            " flatten (Flatten)           (None, 9216)              0         \n",
            "                                                                 \n",
            " dense (Dense)               (None, 4096)              37752832  \n",
            "                                                                 \n",
            "=================================================================\n",
            "Total params: 38,960,448\n",
            "Trainable params: 38,960,448\n",
            "Non-trainable params: 0\n",
            "_________________________________________________________________\n"
          ]
        }
      ],
      "source": [
        "embedding=make_embeddding()\n",
        "embedding.summary()"
      ]
    },
    {
      "cell_type": "code",
      "execution_count": 13,
      "id": "9df76436",
      "metadata": {
        "id": "9df76436"
      },
      "outputs": [],
      "source": [
        "class L1Distance(Layer):\n",
        "    def __init__(self,**kwargs):\n",
        "        super().__init__()\n",
        "    def call(self,input_image,validation_image):\n",
        "        return tf.math.abs(input_image-validation_image)\n"
      ]
    },
    {
      "cell_type": "code",
      "execution_count": 14,
      "id": "57894140",
      "metadata": {
        "id": "57894140"
      },
      "outputs": [],
      "source": [
        "def make_siamese():\n",
        "    input_image=Input(shape=(100,100,3),name=\"Input Image\")\n",
        "    validation_image=Input(shape=(100,100,3),name=\" validation Image\")\n",
        "\n",
        "    l1dist=L1Distance()\n",
        "    siamese_distance=l1dist(embedding(input_image),embedding(validation_image))\n",
        "    classification=Dense(1,activation=\"sigmoid\",name=\"classification\")(siamese_distance)\n",
        "\n",
        "    return Model(inputs=[input_image,validation_image],outputs=classification,name=\"siamese_Model\")"
      ]
    },
    {
      "cell_type": "code",
      "execution_count": 15,
      "id": "779945a5",
      "metadata": {
        "id": "779945a5",
        "outputId": "740f3f60-ec54-4f69-d4e2-b884ce4217cc",
        "colab": {
          "base_uri": "https://localhost:8080/"
        }
      },
      "outputs": [
        {
          "output_type": "stream",
          "name": "stdout",
          "text": [
            "Model: \"siamese_Model\"\n",
            "__________________________________________________________________________________________________\n",
            " Layer (type)                   Output Shape         Param #     Connected to                     \n",
            "==================================================================================================\n",
            " Input Image (InputLayer)       [(None, 100, 100, 3  0           []                               \n",
            "                                )]                                                                \n",
            "                                                                                                  \n",
            "  validation Image (InputLayer)  [(None, 100, 100, 3  0          []                               \n",
            "                                )]                                                                \n",
            "                                                                                                  \n",
            " embedding (Functional)         (None, 4096)         38960448    ['Input Image[0][0]',            \n",
            "                                                                  ' validation Image[0][0]']      \n",
            "                                                                                                  \n",
            " l1_distance (L1Distance)       (None, 4096)         0           ['embedding[0][0]',              \n",
            "                                                                  'embedding[1][0]']              \n",
            "                                                                                                  \n",
            " classification (Dense)         (None, 1)            4097        ['l1_distance[0][0]']            \n",
            "                                                                                                  \n",
            "==================================================================================================\n",
            "Total params: 38,964,545\n",
            "Trainable params: 38,964,545\n",
            "Non-trainable params: 0\n",
            "__________________________________________________________________________________________________\n"
          ]
        }
      ],
      "source": [
        "siames=make_siamese()\n",
        "siames.summary()"
      ]
    },
    {
      "cell_type": "code",
      "execution_count": 16,
      "id": "4426e514",
      "metadata": {
        "id": "4426e514"
      },
      "outputs": [],
      "source": [
        "opt=tf.keras.optimizers.Adam(1e-4)\n",
        "loss=tf.keras.losses.BinaryCrossentropy()\n"
      ]
    },
    {
      "cell_type": "code",
      "execution_count": 17,
      "id": "f7f1a30a",
      "metadata": {
        "id": "f7f1a30a"
      },
      "outputs": [],
      "source": [
        "checkpoint_dir = './training_checkpoints'\n",
        "checkpoint_prefix = os.path.join(checkpoint_dir, 'ckpt')\n",
        "checkpoint = tf.train.Checkpoint(opt=opt, siames=siames)"
      ]
    },
    {
      "cell_type": "code",
      "execution_count": 18,
      "id": "541d50f4",
      "metadata": {
        "id": "541d50f4"
      },
      "outputs": [],
      "source": [
        "@tf.function\n",
        "def train_step(batch):\n",
        "    with tf.GradientTape() as tape:\n",
        "        X=batch[:2]\n",
        "        y=batch[2]\n",
        "        yhat = siames(X, training=True)\n",
        "        # Calculate loss\n",
        "        b_loss = loss(y, yhat)\n",
        "    grad = tape.gradient(b_loss, siames.trainable_variables)\n",
        "\n",
        "    # Calculate updated weights and apply to siamese model\n",
        "    opt.apply_gradients(zip(grad, siames.trainable_variables))\n",
        "\n",
        "    # Return loss\n",
        "    return b_loss"
      ]
    },
    {
      "cell_type": "code",
      "execution_count": 19,
      "id": "073d39ba",
      "metadata": {
        "id": "073d39ba"
      },
      "outputs": [],
      "source": [
        "def train(data, EPOCHS):\n",
        "    # Loop through epochs\n",
        "    for epoch in range(1, EPOCHS+1):\n",
        "        print('\\n Epoch {}/{}'.format(epoch, EPOCHS))\n",
        "        progbar = tf.keras.utils.Progbar(len(data))\n",
        "\n",
        "        # Loop through each batch\n",
        "        for idx, batch in enumerate(data):\n",
        "            # Run train step here\n",
        "            train_step(batch)\n",
        "            progbar.update(idx+1)\n",
        "\n",
        "        # Save checkpoints\n",
        "        if epoch % 10 == 0:\n",
        "            checkpoint.save(file_prefix=checkpoint_prefix)"
      ]
    },
    {
      "cell_type": "code",
      "execution_count": 20,
      "id": "73607d53",
      "metadata": {
        "id": "73607d53",
        "outputId": "bef800ca-2b40-47ad-c3f1-bcbe2402c5c8",
        "colab": {
          "base_uri": "https://localhost:8080/"
        }
      },
      "outputs": [
        {
          "output_type": "stream",
          "name": "stdout",
          "text": [
            "\n",
            " Epoch 1/50\n",
            "35/35 [==============================] - 20s 189ms/step\n",
            "\n",
            " Epoch 2/50\n",
            "35/35 [==============================] - 6s 167ms/step\n",
            "\n",
            " Epoch 3/50\n",
            "35/35 [==============================] - 6s 165ms/step\n",
            "\n",
            " Epoch 4/50\n",
            "35/35 [==============================] - 6s 164ms/step\n",
            "\n",
            " Epoch 5/50\n",
            "35/35 [==============================] - 6s 161ms/step\n",
            "\n",
            " Epoch 6/50\n",
            "35/35 [==============================] - 6s 161ms/step\n",
            "\n",
            " Epoch 7/50\n",
            "35/35 [==============================] - 6s 163ms/step\n",
            "\n",
            " Epoch 8/50\n",
            "35/35 [==============================] - 6s 163ms/step\n",
            "\n",
            " Epoch 9/50\n",
            "35/35 [==============================] - 6s 165ms/step\n",
            "\n",
            " Epoch 10/50\n",
            "35/35 [==============================] - 6s 167ms/step\n",
            "\n",
            " Epoch 11/50\n",
            "35/35 [==============================] - 6s 168ms/step\n",
            "\n",
            " Epoch 12/50\n",
            "35/35 [==============================] - 6s 170ms/step\n",
            "\n",
            " Epoch 13/50\n",
            "35/35 [==============================] - 6s 169ms/step\n",
            "\n",
            " Epoch 14/50\n",
            "35/35 [==============================] - 6s 167ms/step\n",
            "\n",
            " Epoch 15/50\n",
            "35/35 [==============================] - 6s 162ms/step\n",
            "\n",
            " Epoch 16/50\n",
            "35/35 [==============================] - 6s 163ms/step\n",
            "\n",
            " Epoch 17/50\n",
            "35/35 [==============================] - 6s 164ms/step\n",
            "\n",
            " Epoch 18/50\n",
            "35/35 [==============================] - 6s 163ms/step\n",
            "\n",
            " Epoch 19/50\n",
            "35/35 [==============================] - 6s 163ms/step\n",
            "\n",
            " Epoch 20/50\n",
            "35/35 [==============================] - 5s 161ms/step\n",
            "\n",
            " Epoch 21/50\n",
            "35/35 [==============================] - 5s 155ms/step\n",
            "\n",
            " Epoch 22/50\n",
            "35/35 [==============================] - 5s 151ms/step\n",
            "\n",
            " Epoch 23/50\n",
            "35/35 [==============================] - 5s 153ms/step\n",
            "\n",
            " Epoch 24/50\n",
            "35/35 [==============================] - 5s 151ms/step\n",
            "\n",
            " Epoch 25/50\n",
            "35/35 [==============================] - 5s 151ms/step\n",
            "\n",
            " Epoch 26/50\n",
            "35/35 [==============================] - 5s 153ms/step\n",
            "\n",
            " Epoch 27/50\n",
            "35/35 [==============================] - 5s 154ms/step\n",
            "\n",
            " Epoch 28/50\n",
            "35/35 [==============================] - 5s 154ms/step\n",
            "\n",
            " Epoch 29/50\n",
            "35/35 [==============================] - 5s 154ms/step\n",
            "\n",
            " Epoch 30/50\n",
            "35/35 [==============================] - 5s 154ms/step\n",
            "\n",
            " Epoch 31/50\n",
            "35/35 [==============================] - 5s 156ms/step\n",
            "\n",
            " Epoch 32/50\n",
            "35/35 [==============================] - 5s 154ms/step\n",
            "\n",
            " Epoch 33/50\n",
            "35/35 [==============================] - 5s 155ms/step\n",
            "\n",
            " Epoch 34/50\n",
            "35/35 [==============================] - 5s 153ms/step\n",
            "\n",
            " Epoch 35/50\n",
            "35/35 [==============================] - 5s 154ms/step\n",
            "\n",
            " Epoch 36/50\n",
            "35/35 [==============================] - 5s 154ms/step\n",
            "\n",
            " Epoch 37/50\n",
            "35/35 [==============================] - 5s 154ms/step\n",
            "\n",
            " Epoch 38/50\n",
            "35/35 [==============================] - 5s 154ms/step\n",
            "\n",
            " Epoch 39/50\n",
            "35/35 [==============================] - 5s 154ms/step\n",
            "\n",
            " Epoch 40/50\n",
            "35/35 [==============================] - 5s 154ms/step\n",
            "\n",
            " Epoch 41/50\n",
            "35/35 [==============================] - 5s 156ms/step\n",
            "\n",
            " Epoch 42/50\n",
            "35/35 [==============================] - 5s 154ms/step\n",
            "\n",
            " Epoch 43/50\n",
            "35/35 [==============================] - 5s 153ms/step\n",
            "\n",
            " Epoch 44/50\n",
            "35/35 [==============================] - 5s 153ms/step\n",
            "\n",
            " Epoch 45/50\n",
            "35/35 [==============================] - 5s 153ms/step\n",
            "\n",
            " Epoch 46/50\n",
            "35/35 [==============================] - 5s 153ms/step\n",
            "\n",
            " Epoch 47/50\n",
            "35/35 [==============================] - 5s 153ms/step\n",
            "\n",
            " Epoch 48/50\n",
            "35/35 [==============================] - 5s 154ms/step\n",
            "\n",
            " Epoch 49/50\n",
            "35/35 [==============================] - 5s 153ms/step\n",
            "\n",
            " Epoch 50/50\n",
            "35/35 [==============================] - 5s 153ms/step\n"
          ]
        }
      ],
      "source": [
        "EPOCHS = 50\n",
        "train(train_data, EPOCHS)"
      ]
    },
    {
      "cell_type": "code",
      "execution_count": 21,
      "id": "ee20f062",
      "metadata": {
        "id": "ee20f062"
      },
      "outputs": [],
      "source": [
        "\n",
        "# Import metric calculations\n",
        "from tensorflow.keras.metrics import Precision, Recall"
      ]
    },
    {
      "cell_type": "code",
      "execution_count": 22,
      "id": "deac0518",
      "metadata": {
        "id": "deac0518"
      },
      "outputs": [],
      "source": [
        "# Get a batch of test data\n",
        "test_input, test_val, y_true = test_data.as_numpy_iterator().next()\n"
      ]
    },
    {
      "cell_type": "code",
      "source": [
        "samp.next()[2]"
      ],
      "metadata": {
        "colab": {
          "base_uri": "https://localhost:8080/"
        },
        "id": "TSivEEnSKPte",
        "outputId": "fd92c77f-9317-425b-816d-fac466db18b2"
      },
      "id": "TSivEEnSKPte",
      "execution_count": null,
      "outputs": [
        {
          "output_type": "execute_result",
          "data": {
            "text/plain": [
              "array([1., 1., 1., 1., 1., 1., 1., 1., 1., 1., 1., 1., 1., 1., 1., 1.],\n",
              "      dtype=float32)"
            ]
          },
          "metadata": {},
          "execution_count": 101
        }
      ]
    },
    {
      "cell_type": "code",
      "source": [
        "yhat=siames.predict([test_input,test_val])\n",
        "yhat"
      ],
      "metadata": {
        "colab": {
          "base_uri": "https://localhost:8080/"
        },
        "id": "InoTGwqkJs5b",
        "outputId": "c198ce2d-f76b-4058-9512-c6c25a762497"
      },
      "id": "InoTGwqkJs5b",
      "execution_count": 23,
      "outputs": [
        {
          "output_type": "stream",
          "name": "stdout",
          "text": [
            "1/1 [==============================] - 0s 156ms/step\n"
          ]
        },
        {
          "output_type": "execute_result",
          "data": {
            "text/plain": [
              "array([[5.0779891e-09],\n",
              "       [1.1909138e-07],\n",
              "       [1.0000000e+00],\n",
              "       [2.4423814e-05],\n",
              "       [2.0545172e-06],\n",
              "       [3.4549474e-05],\n",
              "       [1.0000000e+00],\n",
              "       [1.0000000e+00],\n",
              "       [3.2454412e-04],\n",
              "       [1.0000000e+00],\n",
              "       [1.0000000e+00],\n",
              "       [2.0603489e-05],\n",
              "       [5.3783395e-05],\n",
              "       [5.7683716e-04],\n",
              "       [6.8952278e-07],\n",
              "       [6.1363522e-07]], dtype=float32)"
            ]
          },
          "metadata": {},
          "execution_count": 23
        }
      ]
    },
    {
      "cell_type": "code",
      "source": [
        "[1 if prediction >0.5 else 0 for prediction in yhat]\n"
      ],
      "metadata": {
        "colab": {
          "base_uri": "https://localhost:8080/"
        },
        "id": "ua5oeL2mKJWl",
        "outputId": "023419a2-8ed7-43d7-aa38-f21966da5e6d"
      },
      "id": "ua5oeL2mKJWl",
      "execution_count": 24,
      "outputs": [
        {
          "output_type": "execute_result",
          "data": {
            "text/plain": [
              "[0, 0, 1, 0, 0, 0, 1, 1, 0, 1, 1, 0, 0, 0, 0, 0]"
            ]
          },
          "metadata": {},
          "execution_count": 24
        }
      ]
    },
    {
      "cell_type": "code",
      "source": [
        "m = Recall()\n",
        "\n",
        "# Calculating the recall value\n",
        "m.update_state(y_true, yhat)\n",
        "\n",
        "# Return Recall Result\n",
        "m.result().numpy()"
      ],
      "metadata": {
        "id": "K7wJOvLIK0pM",
        "colab": {
          "base_uri": "https://localhost:8080/"
        },
        "outputId": "924ffd63-698f-4425-ec2e-3fcbd1c79c51"
      },
      "id": "K7wJOvLIK0pM",
      "execution_count": 25,
      "outputs": [
        {
          "output_type": "execute_result",
          "data": {
            "text/plain": [
              "1.0"
            ]
          },
          "metadata": {},
          "execution_count": 25
        }
      ]
    },
    {
      "cell_type": "code",
      "source": [
        "m = Precision()\n",
        "\n",
        "# Calculating the recall value\n",
        "m.update_state(y_true, yhat)\n",
        "\n",
        "# Return Recall Result\n",
        "m.result().numpy()"
      ],
      "metadata": {
        "colab": {
          "base_uri": "https://localhost:8080/"
        },
        "id": "dn0eQGaixqTL",
        "outputId": "beca4ace-d876-41e5-a149-ac258bd4f180"
      },
      "id": "dn0eQGaixqTL",
      "execution_count": 26,
      "outputs": [
        {
          "output_type": "execute_result",
          "data": {
            "text/plain": [
              "1.0"
            ]
          },
          "metadata": {},
          "execution_count": 26
        }
      ]
    },
    {
      "cell_type": "code",
      "source": [
        "plt.figure(figsize=(10,8))\n",
        "\n",
        "# Set first subplot\n",
        "plt.subplot(1,2,1)\n",
        "plt.imshow(test_input[0])\n",
        "\n",
        "# Set second subplot\n",
        "plt.subplot(1,2,2)\n",
        "plt.imshow(test_val[0])\n",
        "\n",
        "# Renders cleanly\n",
        "plt.show()"
      ],
      "metadata": {
        "colab": {
          "base_uri": "https://localhost:8080/",
          "height": 416
        },
        "id": "ro-DaB9vx1AE",
        "outputId": "87f92858-6d99-40c5-d62f-a570f9cbc751"
      },
      "id": "ro-DaB9vx1AE",
      "execution_count": 27,
      "outputs": [
        {
          "output_type": "display_data",
          "data": {
            "text/plain": [
              "<Figure size 1000x800 with 2 Axes>"
            ],
            "image/png": "[encoded data removed]"
          },
          "metadata": {}
        }
      ]
    },
    {
      "cell_type": "code",
      "source": [
        "siames.save('siamesemodelv2.h5')"
      ],
      "metadata": {
        "colab": {
          "base_uri": "https://localhost:8080/"
        },
        "id": "ZLrvHgq2x_kN",
        "outputId": "ce424c97-871b-46be-e2c4-c8681928a02a"
      },
      "id": "ZLrvHgq2x_kN",
      "execution_count": 28,
      "outputs": [
        {
          "output_type": "stream",
          "name": "stderr",
          "text": [
            "WARNING:tensorflow:Compiled the loaded model, but the compiled metrics have yet to be built. `model.compile_metrics` will be empty until you train or evaluate the model.\n"
          ]
        }
      ]
    },
    {
      "cell_type": "code",
      "source": [
        "siamese_model = tf.keras.models.load_model('siamesemodelv2.h5',\n",
        "                                   custom_objects={'L1Distance':L1Distance, 'BinaryCrossentropy':tf.losses.BinaryCrossentropy})"
      ],
      "metadata": {
        "colab": {
          "base_uri": "https://localhost:8080/"
        },
        "id": "wXyLpQUlyAL7",
        "outputId": "fabadb70-d4d9-43db-f6b9-4b52414d97e4"
      },
      "id": "wXyLpQUlyAL7",
      "execution_count": 30,
      "outputs": [
        {
          "output_type": "stream",
          "name": "stderr",
          "text": [
            "WARNING:tensorflow:No training configuration found in the save file, so the model was *not* compiled. Compile it manually.\n"
          ]
        }
      ]
    },
    {
      "cell_type": "code",
      "source": [],
      "metadata": {
        "id": "e9I86-BtyyLg"
      },
      "id": "e9I86-BtyyLg",
      "execution_count": null,
      "outputs": []
    }
  ],
  "metadata": {
    "kernelspec": {
      "display_name": "Python 3",
      "name": "python3"
    },
    "language_info": {
      "codemirror_mode": {
        "name": "ipython",
        "version": 3
      },
      "file_extension": ".py",
      "mimetype": "text/x-python",
      "name": "python",
      "nbconvert_exporter": "python",
      "pygments_lexer": "ipython3",
      "version": "3.10.9"
    },
    "colab": {
      "provenance": [],
      "gpuType": "T4"
    },
    "accelerator": "GPU"
  },
  "nbformat": 4,
  "nbformat_minor": 5
}